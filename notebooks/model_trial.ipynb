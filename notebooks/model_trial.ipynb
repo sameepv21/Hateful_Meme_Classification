{
 "cells": [
  {
   "cell_type": "code",
   "execution_count": 1,
   "metadata": {},
   "outputs": [
    {
     "name": "stderr",
     "output_type": "stream",
     "text": [
      "/home/sameep/Extra_Projects/Hateful_Meme_Classification/venv/lib/python3.8/site-packages/tqdm/auto.py:21: TqdmWarning: IProgress not found. Please update jupyter and ipywidgets. See https://ipywidgets.readthedocs.io/en/stable/user_install.html\n",
      "  from .autonotebook import tqdm as notebook_tqdm\n"
     ]
    }
   ],
   "source": [
    "import pandas as pd\n",
    "import torch\n",
    "import torch.nn as nn\n",
    "import torch.nn.functional as F\n",
    "import torch.optim as optim\n",
    "from torch.utils.data import Dataset, DataLoader\n",
    "import torchvision.transforms as transforms\n",
    "from torchvision import models\n",
    "from transformers import BertTokenizer, VisualBertModel\n",
    "from PIL import Image\n",
    "import os\n",
    "import warnings\n",
    "warnings.filterwarnings(\"ignore\")"
   ]
  },
  {
   "cell_type": "code",
   "execution_count": 2,
   "metadata": {},
   "outputs": [
    {
     "data": {
      "text/html": [
       "<div>\n",
       "<style scoped>\n",
       "    .dataframe tbody tr th:only-of-type {\n",
       "        vertical-align: middle;\n",
       "    }\n",
       "\n",
       "    .dataframe tbody tr th {\n",
       "        vertical-align: top;\n",
       "    }\n",
       "\n",
       "    .dataframe thead th {\n",
       "        text-align: right;\n",
       "    }\n",
       "</style>\n",
       "<table border=\"1\" class=\"dataframe\">\n",
       "  <thead>\n",
       "    <tr style=\"text-align: right;\">\n",
       "      <th></th>\n",
       "      <th>id</th>\n",
       "      <th>img</th>\n",
       "      <th>text</th>\n",
       "      <th>label</th>\n",
       "    </tr>\n",
       "  </thead>\n",
       "  <tbody>\n",
       "    <tr>\n",
       "      <th>0</th>\n",
       "      <td>42953</td>\n",
       "      <td>train/non_hateful/42953.png</td>\n",
       "      <td>it their charact not their color that matter</td>\n",
       "      <td>0</td>\n",
       "    </tr>\n",
       "    <tr>\n",
       "      <th>1</th>\n",
       "      <td>23058</td>\n",
       "      <td>train/non_hateful/23058.png</td>\n",
       "      <td>dont be afraid to love again everyon is not li...</td>\n",
       "      <td>0</td>\n",
       "    </tr>\n",
       "    <tr>\n",
       "      <th>2</th>\n",
       "      <td>13894</td>\n",
       "      <td>train/non_hateful/13894.png</td>\n",
       "      <td>put bow on your pet</td>\n",
       "      <td>0</td>\n",
       "    </tr>\n",
       "    <tr>\n",
       "      <th>3</th>\n",
       "      <td>37408</td>\n",
       "      <td>train/non_hateful/37408.png</td>\n",
       "      <td>i love everyth and everybodi except for squirr...</td>\n",
       "      <td>0</td>\n",
       "    </tr>\n",
       "    <tr>\n",
       "      <th>4</th>\n",
       "      <td>82403</td>\n",
       "      <td>train/non_hateful/82403.png</td>\n",
       "      <td>everybodi love chocol chip cooki even hitler</td>\n",
       "      <td>0</td>\n",
       "    </tr>\n",
       "  </tbody>\n",
       "</table>\n",
       "</div>"
      ],
      "text/plain": [
       "      id                          img  \\\n",
       "0  42953  train/non_hateful/42953.png   \n",
       "1  23058  train/non_hateful/23058.png   \n",
       "2  13894  train/non_hateful/13894.png   \n",
       "3  37408  train/non_hateful/37408.png   \n",
       "4  82403  train/non_hateful/82403.png   \n",
       "\n",
       "                                                text  label  \n",
       "0       it their charact not their color that matter      0  \n",
       "1  dont be afraid to love again everyon is not li...      0  \n",
       "2                                put bow on your pet      0  \n",
       "3  i love everyth and everybodi except for squirr...      0  \n",
       "4       everybodi love chocol chip cooki even hitler      0  "
      ]
     },
     "execution_count": 2,
     "metadata": {},
     "output_type": "execute_result"
    }
   ],
   "source": [
    "train_df = pd.read_json(\"../data/facebook/train.json\")\n",
    "dev_df = pd.read_json(\"../data/facebook/dev.json\")\n",
    "train_df.head()"
   ]
  },
  {
   "cell_type": "code",
   "execution_count": 7,
   "metadata": {},
   "outputs": [],
   "source": [
    "# Some global variables\n",
    "BATCH_SIZE = 64\n",
    "EPOCHS = 10\n",
    "ROOT_PATH = '../data/facebook'\n",
    "IMAGE_SIZE = 224*224\n",
    "NUM_CLASSES = 2\n",
    "TEXTUAL_DIMENSION = 512\n",
    "VISUAL_DIMENSION = 512\n",
    "DEVICE = torch.device('cuda' if torch.cuda.is_available() else'cpu')"
   ]
  },
  {
   "cell_type": "code",
   "execution_count": 4,
   "metadata": {},
   "outputs": [],
   "source": [
    "# Initialize the dataset and maintain the dataloader\n",
    "class DynamicDataset(Dataset):\n",
    "    def __init__(self, json_path, transform = None):\n",
    "        self.df = pd.read_json(json_path)\n",
    "        self.transform = transform\n",
    "\n",
    "    def __len__(self):\n",
    "        return len(self.df)\n",
    "    \n",
    "    def __getitem__(self, index):\n",
    "        img_path = self.df.loc[index, 'img']\n",
    "        img_file = os.path.join(ROOT_PATH, img_path)\n",
    "        image = Image.open(img_file).convert(\"RGB\")\n",
    "        if self.transform is not None:\n",
    "            image = self.transform(image)\n",
    "        \n",
    "        text = self.df.loc[index, 'text']\n",
    "        if 'label' not in self.df.columns:\n",
    "            return image, text\n",
    "        label = self.df.loc[index, 'label']\n",
    "\n",
    "        return image ,text, label"
   ]
  },
  {
   "cell_type": "code",
   "execution_count": 5,
   "metadata": {},
   "outputs": [],
   "source": [
    "# Define a transform function for image preprocessing\n",
    "transform = transforms.Compose([\n",
    "    transforms.ToTensor(),\n",
    "    transforms.Normalize([0.485, 0.456, 0.406], [0.229, 0.224, 0.225])\n",
    "])\n",
    "\n",
    "# Create objects of each set of data\n",
    "train_data = DynamicDataset(os.path.join(ROOT_PATH, 'train.json'), transform = transform)\n",
    "dev_data = DynamicDataset(os.path.join(ROOT_PATH, 'dev.json'), transform = transform)\n",
    "\n",
    "# Create a dataloader\n",
    "train_loader = DataLoader(train_data, batch_size = BATCH_SIZE, shuffle = True)\n",
    "dev_loader = DataLoader(dev_data, batch_size = BATCH_SIZE, shuffle = True)"
   ]
  },
  {
   "cell_type": "code",
   "execution_count": 6,
   "metadata": {},
   "outputs": [
    {
     "name": "stderr",
     "output_type": "stream",
     "text": [
      "You are using a model of type bert to instantiate a model of type visual_bert. This is not supported for all configurations of models and can yield errors.\n",
      "Some weights of the model checkpoint at bert-base-uncased were not used when initializing VisualBertModel: ['bert.encoder.layer.1.attention.output.LayerNorm.weight', 'bert.encoder.layer.6.attention.self.key.weight', 'bert.encoder.layer.8.attention.output.LayerNorm.bias', 'bert.encoder.layer.7.intermediate.dense.bias', 'bert.encoder.layer.11.attention.output.LayerNorm.weight', 'bert.encoder.layer.3.attention.output.dense.weight', 'bert.encoder.layer.4.attention.self.key.weight', 'bert.encoder.layer.2.attention.self.value.weight', 'bert.encoder.layer.5.attention.self.key.bias', 'bert.encoder.layer.11.attention.output.dense.weight', 'bert.encoder.layer.9.attention.self.value.bias', 'bert.encoder.layer.6.attention.self.query.bias', 'bert.encoder.layer.3.output.LayerNorm.weight', 'bert.encoder.layer.3.output.dense.weight', 'bert.encoder.layer.9.output.dense.weight', 'bert.encoder.layer.10.output.dense.bias', 'bert.encoder.layer.2.output.dense.bias', 'bert.encoder.layer.11.intermediate.dense.weight', 'bert.encoder.layer.6.output.dense.weight', 'bert.encoder.layer.5.output.LayerNorm.bias', 'bert.encoder.layer.0.output.LayerNorm.weight', 'bert.encoder.layer.6.attention.output.dense.bias', 'bert.encoder.layer.10.attention.self.value.bias', 'bert.encoder.layer.11.attention.self.query.bias', 'bert.encoder.layer.3.attention.self.key.bias', 'bert.encoder.layer.11.attention.output.LayerNorm.bias', 'bert.encoder.layer.3.attention.output.LayerNorm.weight', 'bert.encoder.layer.0.output.dense.bias', 'bert.encoder.layer.8.attention.output.dense.bias', 'bert.encoder.layer.3.attention.output.LayerNorm.bias', 'bert.encoder.layer.7.output.LayerNorm.bias', 'bert.encoder.layer.11.output.LayerNorm.weight', 'bert.encoder.layer.2.attention.output.LayerNorm.bias', 'bert.encoder.layer.6.attention.output.dense.weight', 'bert.encoder.layer.10.attention.output.LayerNorm.bias', 'bert.encoder.layer.5.attention.output.dense.weight', 'bert.encoder.layer.1.output.dense.weight', 'cls.predictions.transform.LayerNorm.bias', 'bert.encoder.layer.1.attention.output.dense.bias', 'bert.encoder.layer.7.attention.self.value.bias', 'bert.encoder.layer.9.attention.output.LayerNorm.bias', 'bert.encoder.layer.8.attention.self.value.bias', 'bert.encoder.layer.4.output.LayerNorm.bias', 'bert.encoder.layer.8.intermediate.dense.weight', 'bert.encoder.layer.9.attention.self.key.weight', 'bert.encoder.layer.3.attention.output.dense.bias', 'bert.encoder.layer.2.attention.self.value.bias', 'bert.encoder.layer.6.output.dense.bias', 'bert.encoder.layer.11.attention.self.key.weight', 'bert.encoder.layer.10.attention.output.dense.bias', 'bert.encoder.layer.10.attention.self.key.bias', 'bert.encoder.layer.0.output.LayerNorm.bias', 'bert.encoder.layer.1.attention.self.key.bias', 'bert.encoder.layer.6.attention.output.LayerNorm.weight', 'cls.predictions.transform.dense.weight', 'bert.encoder.layer.0.intermediate.dense.bias', 'bert.encoder.layer.8.output.dense.bias', 'bert.encoder.layer.0.attention.output.LayerNorm.weight', 'bert.encoder.layer.8.output.dense.weight', 'bert.encoder.layer.4.output.LayerNorm.weight', 'bert.encoder.layer.0.output.dense.weight', 'bert.encoder.layer.7.attention.output.LayerNorm.bias', 'bert.encoder.layer.3.attention.self.query.weight', 'bert.encoder.layer.11.output.LayerNorm.bias', 'bert.encoder.layer.5.attention.self.query.weight', 'bert.encoder.layer.1.attention.self.key.weight', 'bert.encoder.layer.8.output.LayerNorm.bias', 'bert.encoder.layer.9.attention.self.query.bias', 'bert.encoder.layer.10.intermediate.dense.bias', 'bert.encoder.layer.11.intermediate.dense.bias', 'bert.encoder.layer.2.output.LayerNorm.bias', 'bert.encoder.layer.8.attention.output.dense.weight', 'bert.encoder.layer.2.output.LayerNorm.weight', 'bert.pooler.dense.bias', 'bert.encoder.layer.0.attention.self.query.weight', 'cls.predictions.decoder.weight', 'bert.encoder.layer.3.output.dense.bias', 'bert.encoder.layer.2.attention.output.dense.weight', 'bert.embeddings.position_embeddings.weight', 'bert.encoder.layer.3.output.LayerNorm.bias', 'cls.seq_relationship.bias', 'bert.encoder.layer.4.attention.self.query.weight', 'bert.encoder.layer.5.attention.output.LayerNorm.weight', 'bert.encoder.layer.9.intermediate.dense.weight', 'bert.encoder.layer.4.attention.self.key.bias', 'bert.encoder.layer.3.intermediate.dense.weight', 'bert.encoder.layer.7.attention.self.key.bias', 'bert.encoder.layer.1.attention.self.value.weight', 'bert.encoder.layer.7.output.LayerNorm.weight', 'bert.encoder.layer.1.attention.self.query.weight', 'bert.encoder.layer.5.attention.self.value.bias', 'bert.encoder.layer.6.attention.self.value.weight', 'bert.encoder.layer.1.intermediate.dense.weight', 'bert.pooler.dense.weight', 'bert.encoder.layer.0.attention.output.dense.bias', 'bert.encoder.layer.5.attention.self.value.weight', 'bert.encoder.layer.5.attention.output.dense.bias', 'bert.encoder.layer.0.attention.self.key.weight', 'bert.encoder.layer.1.attention.self.query.bias', 'bert.encoder.layer.6.attention.output.LayerNorm.bias', 'bert.encoder.layer.6.output.LayerNorm.weight', 'bert.encoder.layer.9.output.LayerNorm.bias', 'cls.seq_relationship.weight', 'bert.encoder.layer.5.output.LayerNorm.weight', 'bert.encoder.layer.9.attention.self.value.weight', 'bert.encoder.layer.8.attention.self.key.weight', 'bert.encoder.layer.4.attention.output.LayerNorm.weight', 'bert.encoder.layer.0.attention.self.query.bias', 'bert.encoder.layer.2.intermediate.dense.weight', 'bert.embeddings.word_embeddings.weight', 'bert.encoder.layer.7.attention.output.dense.bias', 'bert.encoder.layer.1.intermediate.dense.bias', 'bert.encoder.layer.10.attention.self.query.weight', 'bert.encoder.layer.8.intermediate.dense.bias', 'bert.encoder.layer.5.output.dense.weight', 'bert.encoder.layer.0.attention.self.value.bias', 'bert.encoder.layer.7.output.dense.weight', 'bert.encoder.layer.4.attention.self.query.bias', 'bert.encoder.layer.4.output.dense.bias', 'cls.predictions.bias', 'bert.encoder.layer.11.output.dense.weight', 'bert.encoder.layer.7.attention.self.query.weight', 'bert.encoder.layer.8.attention.self.query.bias', 'bert.encoder.layer.3.intermediate.dense.bias', 'bert.encoder.layer.6.attention.self.value.bias', 'bert.encoder.layer.6.output.LayerNorm.bias', 'bert.encoder.layer.5.attention.output.LayerNorm.bias', 'bert.encoder.layer.4.attention.output.dense.weight', 'bert.encoder.layer.10.output.dense.weight', 'bert.encoder.layer.4.output.dense.weight', 'bert.encoder.layer.10.attention.output.LayerNorm.weight', 'bert.encoder.layer.7.intermediate.dense.weight', 'bert.encoder.layer.2.attention.output.LayerNorm.weight', 'bert.encoder.layer.10.attention.output.dense.weight', 'bert.encoder.layer.3.attention.self.key.weight', 'bert.encoder.layer.2.attention.self.query.weight', 'bert.encoder.layer.1.attention.output.LayerNorm.bias', 'bert.encoder.layer.3.attention.self.query.bias', 'bert.encoder.layer.10.attention.self.query.bias', 'bert.encoder.layer.2.attention.output.dense.bias', 'bert.encoder.layer.11.output.dense.bias', 'bert.embeddings.token_type_embeddings.weight', 'bert.encoder.layer.5.attention.self.key.weight', 'bert.encoder.layer.3.attention.self.value.bias', 'bert.encoder.layer.10.output.LayerNorm.bias', 'bert.encoder.layer.9.attention.self.query.weight', 'bert.encoder.layer.4.intermediate.dense.weight', 'bert.encoder.layer.11.attention.output.dense.bias', 'bert.encoder.layer.0.intermediate.dense.weight', 'bert.encoder.layer.11.attention.self.query.weight', 'bert.encoder.layer.8.attention.self.key.bias', 'bert.encoder.layer.9.attention.self.key.bias', 'bert.embeddings.LayerNorm.weight', 'bert.encoder.layer.4.attention.self.value.bias', 'bert.encoder.layer.4.attention.self.value.weight', 'bert.embeddings.LayerNorm.bias', 'bert.encoder.layer.6.intermediate.dense.bias', 'bert.encoder.layer.1.output.dense.bias', 'bert.encoder.layer.0.attention.output.dense.weight', 'bert.encoder.layer.9.intermediate.dense.bias', 'bert.encoder.layer.0.attention.self.key.bias', 'bert.encoder.layer.4.attention.output.dense.bias', 'bert.encoder.layer.9.attention.output.dense.bias', 'bert.encoder.layer.2.output.dense.weight', 'bert.encoder.layer.7.attention.self.value.weight', 'bert.encoder.layer.11.attention.self.value.weight', 'bert.encoder.layer.11.attention.self.value.bias', 'bert.encoder.layer.3.attention.self.value.weight', 'bert.encoder.layer.7.attention.self.query.bias', 'bert.encoder.layer.1.attention.output.dense.weight', 'bert.encoder.layer.8.attention.self.value.weight', 'cls.predictions.transform.LayerNorm.weight', 'bert.encoder.layer.5.attention.self.query.bias', 'bert.encoder.layer.0.attention.self.value.weight', 'bert.encoder.layer.0.attention.output.LayerNorm.bias', 'bert.encoder.layer.2.attention.self.key.bias', 'bert.encoder.layer.8.attention.output.LayerNorm.weight', 'bert.encoder.layer.6.attention.self.key.bias', 'bert.encoder.layer.5.intermediate.dense.bias', 'bert.encoder.layer.10.output.LayerNorm.weight', 'bert.encoder.layer.10.intermediate.dense.weight', 'bert.encoder.layer.8.output.LayerNorm.weight', 'bert.encoder.layer.11.attention.self.key.bias', 'bert.encoder.layer.1.attention.self.value.bias', 'bert.encoder.layer.2.intermediate.dense.bias', 'bert.encoder.layer.1.output.LayerNorm.bias', 'bert.encoder.layer.5.output.dense.bias', 'bert.encoder.layer.6.attention.self.query.weight', 'bert.encoder.layer.4.intermediate.dense.bias', 'bert.encoder.layer.4.attention.output.LayerNorm.bias', 'bert.encoder.layer.8.attention.self.query.weight', 'bert.encoder.layer.10.attention.self.key.weight', 'bert.encoder.layer.6.intermediate.dense.weight', 'cls.predictions.transform.dense.bias', 'bert.encoder.layer.9.output.LayerNorm.weight', 'bert.encoder.layer.7.attention.self.key.weight', 'bert.encoder.layer.2.attention.self.key.weight', 'bert.encoder.layer.10.attention.self.value.weight', 'bert.encoder.layer.1.output.LayerNorm.weight', 'bert.encoder.layer.5.intermediate.dense.weight', 'bert.encoder.layer.7.output.dense.bias', 'bert.encoder.layer.9.attention.output.dense.weight', 'bert.encoder.layer.7.attention.output.dense.weight', 'bert.encoder.layer.9.output.dense.bias', 'bert.encoder.layer.2.attention.self.query.bias', 'bert.encoder.layer.9.attention.output.LayerNorm.weight', 'bert.encoder.layer.7.attention.output.LayerNorm.weight']\n",
      "- This IS expected if you are initializing VisualBertModel from the checkpoint of a model trained on another task or with another architecture (e.g. initializing a BertForSequenceClassification model from a BertForPreTraining model).\n",
      "- This IS NOT expected if you are initializing VisualBertModel from the checkpoint of a model that you expect to be exactly identical (initializing a BertForSequenceClassification model from a BertForSequenceClassification model).\n",
      "Some weights of VisualBertModel were not initialized from the model checkpoint at bert-base-uncased and are newly initialized: ['encoder.layer.7.attention.self.key.bias', 'encoder.layer.4.attention.self.query.bias', 'encoder.layer.2.attention.output.dense.bias', 'encoder.layer.2.attention.output.LayerNorm.bias', 'encoder.layer.4.attention.self.query.weight', 'encoder.layer.9.attention.self.value.bias', 'encoder.layer.9.attention.output.dense.bias', 'encoder.layer.11.attention.output.dense.bias', 'encoder.layer.2.attention.self.value.bias', 'encoder.layer.9.attention.output.LayerNorm.weight', 'encoder.layer.3.intermediate.dense.weight', 'encoder.layer.3.output.dense.bias', 'encoder.layer.1.output.LayerNorm.weight', 'encoder.layer.5.attention.output.LayerNorm.weight', 'encoder.layer.4.intermediate.dense.bias', 'encoder.layer.8.output.dense.weight', 'encoder.layer.0.attention.self.key.bias', 'encoder.layer.8.output.LayerNorm.weight', 'encoder.layer.5.attention.self.value.bias', 'encoder.layer.5.attention.self.query.weight', 'encoder.layer.10.attention.self.query.bias', 'encoder.layer.11.attention.self.value.bias', 'encoder.layer.11.output.dense.weight', 'encoder.layer.4.attention.output.LayerNorm.weight', 'encoder.layer.1.attention.self.query.bias', 'encoder.layer.2.attention.output.LayerNorm.weight', 'encoder.layer.0.attention.self.key.weight', 'encoder.layer.5.attention.output.dense.weight', 'encoder.layer.4.intermediate.dense.weight', 'encoder.layer.7.attention.self.value.weight', 'encoder.layer.8.intermediate.dense.bias', 'encoder.layer.2.output.dense.bias', 'encoder.layer.0.attention.output.LayerNorm.bias', 'encoder.layer.8.output.dense.bias', 'encoder.layer.11.attention.self.key.bias', 'encoder.layer.9.output.dense.weight', 'encoder.layer.11.output.dense.bias', 'encoder.layer.8.attention.self.value.bias', 'encoder.layer.6.output.dense.bias', 'encoder.layer.7.intermediate.dense.bias', 'encoder.layer.2.attention.self.query.bias', 'encoder.layer.7.attention.self.query.bias', 'encoder.layer.7.intermediate.dense.weight', 'encoder.layer.0.attention.self.value.bias', 'embeddings.LayerNorm.weight', 'encoder.layer.5.output.dense.bias', 'encoder.layer.7.attention.self.value.bias', 'encoder.layer.11.output.LayerNorm.weight', 'encoder.layer.5.attention.self.key.bias', 'encoder.layer.1.output.dense.weight', 'encoder.layer.10.attention.output.dense.weight', 'encoder.layer.4.attention.output.dense.bias', 'encoder.layer.11.attention.output.dense.weight', 'encoder.layer.5.output.dense.weight', 'encoder.layer.11.intermediate.dense.weight', 'encoder.layer.4.attention.self.key.weight', 'encoder.layer.6.attention.output.LayerNorm.bias', 'encoder.layer.9.attention.self.query.bias', 'encoder.layer.10.attention.output.LayerNorm.weight', 'encoder.layer.6.intermediate.dense.weight', 'encoder.layer.6.attention.self.query.bias', 'encoder.layer.6.output.LayerNorm.bias', 'encoder.layer.11.intermediate.dense.bias', 'encoder.layer.3.attention.self.query.weight', 'pooler.dense.bias', 'encoder.layer.4.attention.self.value.weight', 'embeddings.token_type_embeddings.weight', 'encoder.layer.6.attention.self.value.bias', 'encoder.layer.8.intermediate.dense.weight', 'encoder.layer.9.attention.self.value.weight', 'encoder.layer.6.attention.self.query.weight', 'encoder.layer.7.attention.output.LayerNorm.bias', 'encoder.layer.0.output.LayerNorm.weight', 'encoder.layer.7.attention.output.dense.weight', 'encoder.layer.3.attention.output.dense.weight', 'encoder.layer.0.output.LayerNorm.bias', 'encoder.layer.1.intermediate.dense.bias', 'encoder.layer.9.attention.output.LayerNorm.bias', 'encoder.layer.10.output.LayerNorm.weight', 'encoder.layer.8.output.LayerNorm.bias', 'encoder.layer.3.attention.self.query.bias', 'embeddings.visual_position_embeddings.weight', 'encoder.layer.1.attention.output.dense.bias', 'encoder.layer.8.attention.output.LayerNorm.bias', 'encoder.layer.5.intermediate.dense.weight', 'encoder.layer.4.attention.self.key.bias', 'encoder.layer.9.attention.self.key.weight', 'encoder.layer.3.attention.output.LayerNorm.weight', 'encoder.layer.1.intermediate.dense.weight', 'embeddings.visual_projection.bias', 'encoder.layer.2.attention.self.key.bias', 'encoder.layer.3.attention.self.value.weight', 'encoder.layer.5.attention.output.LayerNorm.bias', 'encoder.layer.6.attention.output.LayerNorm.weight', 'encoder.layer.10.output.dense.weight', 'encoder.layer.2.attention.self.value.weight', 'encoder.layer.0.intermediate.dense.bias', 'encoder.layer.0.output.dense.bias', 'encoder.layer.1.attention.self.value.bias', 'encoder.layer.11.output.LayerNorm.bias', 'encoder.layer.9.attention.output.dense.weight', 'encoder.layer.2.intermediate.dense.weight', 'encoder.layer.10.attention.self.query.weight', 'encoder.layer.7.output.LayerNorm.bias', 'encoder.layer.2.intermediate.dense.bias', 'encoder.layer.4.output.LayerNorm.weight', 'pooler.dense.weight', 'encoder.layer.7.attention.output.dense.bias', 'encoder.layer.5.attention.self.value.weight', 'encoder.layer.11.attention.self.query.weight', 'encoder.layer.3.attention.output.LayerNorm.bias', 'encoder.layer.1.attention.self.key.weight', 'encoder.layer.11.attention.self.query.bias', 'encoder.layer.4.output.dense.weight', 'encoder.layer.6.output.dense.weight', 'encoder.layer.9.output.dense.bias', 'encoder.layer.0.intermediate.dense.weight', 'encoder.layer.10.attention.output.LayerNorm.bias', 'encoder.layer.5.attention.output.dense.bias', 'encoder.layer.8.attention.self.key.bias', 'encoder.layer.6.attention.self.key.weight', 'encoder.layer.3.output.LayerNorm.bias', 'encoder.layer.6.attention.self.key.bias', 'encoder.layer.10.intermediate.dense.bias', 'encoder.layer.11.attention.output.LayerNorm.weight', 'encoder.layer.2.attention.self.query.weight', 'encoder.layer.6.intermediate.dense.bias', 'encoder.layer.7.output.dense.weight', 'encoder.layer.10.attention.self.value.bias', 'encoder.layer.4.attention.self.value.bias', 'encoder.layer.11.attention.self.value.weight', 'encoder.layer.5.attention.self.key.weight', 'encoder.layer.1.attention.output.dense.weight', 'encoder.layer.2.attention.output.dense.weight', 'encoder.layer.4.attention.output.LayerNorm.bias', 'encoder.layer.7.attention.self.query.weight', 'encoder.layer.5.attention.self.query.bias', 'encoder.layer.10.attention.self.key.bias', 'encoder.layer.8.attention.output.dense.weight', 'encoder.layer.3.output.LayerNorm.weight', 'encoder.layer.6.output.LayerNorm.weight', 'encoder.layer.10.attention.output.dense.bias', 'encoder.layer.8.attention.self.value.weight', 'encoder.layer.1.output.LayerNorm.bias', 'encoder.layer.0.attention.output.dense.weight', 'encoder.layer.5.intermediate.dense.bias', 'encoder.layer.10.intermediate.dense.weight', 'encoder.layer.2.output.LayerNorm.bias', 'encoder.layer.2.output.dense.weight', 'encoder.layer.8.attention.self.key.weight', 'encoder.layer.11.attention.output.LayerNorm.bias', 'encoder.layer.10.attention.self.key.weight', 'encoder.layer.1.output.dense.bias', 'encoder.layer.1.attention.self.value.weight', 'encoder.layer.3.output.dense.weight', 'embeddings.position_embeddings.weight', 'encoder.layer.0.output.dense.weight', 'encoder.layer.1.attention.output.LayerNorm.weight', 'encoder.layer.10.output.LayerNorm.bias', 'encoder.layer.9.attention.self.key.bias', 'encoder.layer.2.output.LayerNorm.weight', 'encoder.layer.5.output.LayerNorm.bias', 'encoder.layer.8.attention.output.dense.bias', 'encoder.layer.9.intermediate.dense.weight', 'encoder.layer.7.attention.output.LayerNorm.weight', 'encoder.layer.3.attention.self.value.bias', 'embeddings.visual_token_type_embeddings.weight', 'embeddings.LayerNorm.bias', 'encoder.layer.10.attention.self.value.weight', 'encoder.layer.8.attention.output.LayerNorm.weight', 'encoder.layer.4.output.LayerNorm.bias', 'encoder.layer.3.attention.self.key.bias', 'encoder.layer.9.intermediate.dense.bias', 'encoder.layer.3.attention.self.key.weight', 'embeddings.word_embeddings.weight', 'encoder.layer.3.intermediate.dense.bias', 'encoder.layer.0.attention.self.query.weight', 'encoder.layer.3.attention.output.dense.bias', 'encoder.layer.5.output.LayerNorm.weight', 'encoder.layer.10.output.dense.bias', 'encoder.layer.9.output.LayerNorm.bias', 'encoder.layer.8.attention.self.query.weight', 'encoder.layer.0.attention.output.LayerNorm.weight', 'encoder.layer.9.attention.self.query.weight', 'encoder.layer.0.attention.self.value.weight', 'encoder.layer.0.attention.self.query.bias', 'encoder.layer.6.attention.self.value.weight', 'encoder.layer.2.attention.self.key.weight', 'encoder.layer.1.attention.self.query.weight', 'encoder.layer.7.output.LayerNorm.weight', 'encoder.layer.4.output.dense.bias', 'encoder.layer.0.attention.output.dense.bias', 'encoder.layer.7.attention.self.key.weight', 'encoder.layer.6.attention.output.dense.weight', 'embeddings.visual_projection.weight', 'encoder.layer.1.attention.self.key.bias', 'encoder.layer.11.attention.self.key.weight', 'encoder.layer.6.attention.output.dense.bias', 'encoder.layer.9.output.LayerNorm.weight', 'encoder.layer.4.attention.output.dense.weight', 'encoder.layer.8.attention.self.query.bias', 'encoder.layer.7.output.dense.bias', 'encoder.layer.1.attention.output.LayerNorm.bias']\n",
      "You should probably TRAIN this model on a down-stream task to be able to use it for predictions and inference.\n",
      "Using cache found in /home/sameep/.cache/torch/hub/pytorch_vision_v0.6.0\n"
     ]
    }
   ],
   "source": [
    "# Define tokenizer\n",
    "tokenizer = BertTokenizer.from_pretrained('bert-base-uncased')"
   ]
  },
  {
   "cell_type": "code",
   "execution_count": 8,
   "metadata": {},
   "outputs": [],
   "source": [
    "class Embeddings(nn.Module):\n",
    "    def __init__(self):\n",
    "        super().__init__()\n",
    "\n",
    "        # Visual Bert for extracting textual features\n",
    "        visual_bert = VisualBertModel.from_pretrained('uclanlp/visualbert-vqa')\n",
    "        self.visual_bert = visual_bert\n",
    "\n",
    "        # Dense Layer for reducing the dimension\n",
    "        dense_layers = nn.Sequential(\n",
    "            nn.Linear(768, 512),\n",
    "            nn.ReLU(),\n",
    "        )\n",
    "        self.dense_layers = dense_layers\n",
    "\n",
    "        # ResNet50 for extracting visual features\n",
    "        resnet50 = models.resnet50(weights = models.ResNet50_Weights.DEFAULT)\n",
    "        self.resnet50 = nn.Sequential(*list(resnet50.children())[:-1])\n",
    "\n",
    "        # Conv Layer for reducing the dimension\n",
    "        convolution_layers = nn.Sequential(\n",
    "            nn.Conv2d(2048, 1024, kernel_size = (3, 3), stride = (1, 1), padding = (1, 1)),\n",
    "            nn.ReLU(),\n",
    "            nn.Conv2d(1024, 512, kernel_size = (3, 3), stride = (1, 1), padding = (1, 1)),\n",
    "            nn.ReLU(),\n",
    "        )\n",
    "        self.convolution_layers = convolution_layers\n",
    "    \n",
    "    def textual_features(self, texts):\n",
    "        # Generate tokens for input ids and attention mask\n",
    "        inputs = tokenizer.batch_encode_plus(texts, padding=True, truncation=True, return_tensors='pt')\n",
    "        input_ids = inputs['input_ids'].to(DEVICE)\n",
    "        attention_mask = inputs['attention_mask'].to(DEVICE)\n",
    "\n",
    "        # Extract features from texts\n",
    "        textual_features = self.dense_layers(self.visual_bert(input_ids = input_ids, attention_mask = attention_mask))\n",
    "        textual_features = textual_features.last_hidden_state[:, 0, :]\n",
    "\n",
    "        return textual_features\n",
    "\n",
    "    def visual_features(self, images):\n",
    "        # Extract features from images\n",
    "        visual_features = self.convolution_layers(self.resnet50(images))\n",
    "        visual_features = visual_features.view(visual_features.size(0), -1)\n",
    "\n",
    "        return visual_features"
   ]
  },
  {
   "cell_type": "code",
   "execution_count": 11,
   "metadata": {},
   "outputs": [],
   "source": [
    "class Fusion(nn.Module):\n",
    "    def __init__(self):\n",
    "        super().__init__()\n",
    "        \n",
    "        # Initialize embeddings\n",
    "        self.embeddings = Embeddings()\n",
    "\n",
    "        # Define Fusion layers\n",
    "        self.fc1 = nn.Linear(1024, 512)\n",
    "        self.fc2 = nn.Linear(512, 2)\n",
    "\n",
    "    def forward(self, images, texts):\n",
    "        # Get visual and textual features\n",
    "        visual_features = self.embeddings.visual_features(images)\n",
    "        textual_features = self.embeddings.textual_features(texts)\n",
    "\n",
    "        # Concatenate visual and textual features\n",
    "        features = torch.cat((visual_features, textual_features), dim = 1)\n",
    "\n",
    "        # Apply fusion layers\n",
    "        features = self.fc1(features)\n",
    "        output = self.fc2(features)\n",
    "\n",
    "        return output"
   ]
  },
  {
   "cell_type": "code",
   "execution_count": 12,
   "metadata": {},
   "outputs": [
    {
     "name": "stderr",
     "output_type": "stream",
     "text": [
      "Some weights of the model checkpoint at uclanlp/visualbert-vqa were not used when initializing VisualBertModel: ['cls.bias', 'cls.weight']\n",
      "- This IS expected if you are initializing VisualBertModel from the checkpoint of a model trained on another task or with another architecture (e.g. initializing a BertForSequenceClassification model from a BertForPreTraining model).\n",
      "- This IS NOT expected if you are initializing VisualBertModel from the checkpoint of a model that you expect to be exactly identical (initializing a BertForSequenceClassification model from a BertForSequenceClassification model).\n"
     ]
    }
   ],
   "source": [
    "# Define model, loss function and optimizer\n",
    "model = Fusion().to(DEVICE)\n",
    "criterion = nn.CrossEntropyLoss()\n",
    "optimizer = optim.Adam(model.parameters(), lr = 0.01)"
   ]
  },
  {
   "cell_type": "code",
   "execution_count": null,
   "metadata": {},
   "outputs": [],
   "source": []
  }
 ],
 "metadata": {
  "kernelspec": {
   "display_name": "hmc",
   "language": "python",
   "name": "venv"
  },
  "language_info": {
   "codemirror_mode": {
    "name": "ipython",
    "version": 3
   },
   "file_extension": ".py",
   "mimetype": "text/x-python",
   "name": "python",
   "nbconvert_exporter": "python",
   "pygments_lexer": "ipython3",
   "version": "3.8.10"
  },
  "orig_nbformat": 4
 },
 "nbformat": 4,
 "nbformat_minor": 2
}
