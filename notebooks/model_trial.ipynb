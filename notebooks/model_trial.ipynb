{
 "cells": [
  {
   "cell_type": "code",
   "execution_count": 1,
   "metadata": {},
   "outputs": [
    {
     "name": "stderr",
     "output_type": "stream",
     "text": [
      "/home/sameep/Extra_Projects/Hateful_Meme_Classification/venv/lib/python3.8/site-packages/tqdm/auto.py:21: TqdmWarning: IProgress not found. Please update jupyter and ipywidgets. See https://ipywidgets.readthedocs.io/en/stable/user_install.html\n",
      "  from .autonotebook import tqdm as notebook_tqdm\n"
     ]
    }
   ],
   "source": [
    "import pandas as pd\n",
    "import torch\n",
    "import torch.nn as nn\n",
    "import torch.nn.functional as F\n",
    "import torch.optim as optim\n",
    "from torch.utils.data import Dataset, DataLoader\n",
    "import torchvision.transforms as transforms\n",
    "from torchvision import models\n",
    "from transformers import BertTokenizer, VisualBertModel\n",
    "from PIL import Image\n",
    "import os\n",
    "import warnings\n",
    "warnings.filterwarnings(\"ignore\")"
   ]
  },
  {
   "cell_type": "code",
   "execution_count": 2,
   "metadata": {},
   "outputs": [
    {
     "data": {
      "text/html": [
       "<div>\n",
       "<style scoped>\n",
       "    .dataframe tbody tr th:only-of-type {\n",
       "        vertical-align: middle;\n",
       "    }\n",
       "\n",
       "    .dataframe tbody tr th {\n",
       "        vertical-align: top;\n",
       "    }\n",
       "\n",
       "    .dataframe thead th {\n",
       "        text-align: right;\n",
       "    }\n",
       "</style>\n",
       "<table border=\"1\" class=\"dataframe\">\n",
       "  <thead>\n",
       "    <tr style=\"text-align: right;\">\n",
       "      <th></th>\n",
       "      <th>id</th>\n",
       "      <th>img</th>\n",
       "      <th>text</th>\n",
       "      <th>label</th>\n",
       "    </tr>\n",
       "  </thead>\n",
       "  <tbody>\n",
       "    <tr>\n",
       "      <th>0</th>\n",
       "      <td>42953</td>\n",
       "      <td>train/non_hateful/42953.png</td>\n",
       "      <td>it their charact not their color that matter</td>\n",
       "      <td>0</td>\n",
       "    </tr>\n",
       "    <tr>\n",
       "      <th>1</th>\n",
       "      <td>23058</td>\n",
       "      <td>train/non_hateful/23058.png</td>\n",
       "      <td>dont be afraid to love again everyon is not li...</td>\n",
       "      <td>0</td>\n",
       "    </tr>\n",
       "    <tr>\n",
       "      <th>2</th>\n",
       "      <td>13894</td>\n",
       "      <td>train/non_hateful/13894.png</td>\n",
       "      <td>put bow on your pet</td>\n",
       "      <td>0</td>\n",
       "    </tr>\n",
       "    <tr>\n",
       "      <th>3</th>\n",
       "      <td>37408</td>\n",
       "      <td>train/non_hateful/37408.png</td>\n",
       "      <td>i love everyth and everybodi except for squirr...</td>\n",
       "      <td>0</td>\n",
       "    </tr>\n",
       "    <tr>\n",
       "      <th>4</th>\n",
       "      <td>82403</td>\n",
       "      <td>train/non_hateful/82403.png</td>\n",
       "      <td>everybodi love chocol chip cooki even hitler</td>\n",
       "      <td>0</td>\n",
       "    </tr>\n",
       "  </tbody>\n",
       "</table>\n",
       "</div>"
      ],
      "text/plain": [
       "      id                          img  \\\n",
       "0  42953  train/non_hateful/42953.png   \n",
       "1  23058  train/non_hateful/23058.png   \n",
       "2  13894  train/non_hateful/13894.png   \n",
       "3  37408  train/non_hateful/37408.png   \n",
       "4  82403  train/non_hateful/82403.png   \n",
       "\n",
       "                                                text  label  \n",
       "0       it their charact not their color that matter      0  \n",
       "1  dont be afraid to love again everyon is not li...      0  \n",
       "2                                put bow on your pet      0  \n",
       "3  i love everyth and everybodi except for squirr...      0  \n",
       "4       everybodi love chocol chip cooki even hitler      0  "
      ]
     },
     "execution_count": 2,
     "metadata": {},
     "output_type": "execute_result"
    }
   ],
   "source": [
    "train_df = pd.read_json(\"../data/facebook/train.json\")\n",
    "dev_df = pd.read_json(\"../data/facebook/dev.json\")\n",
    "train_df.head()"
   ]
  },
  {
   "cell_type": "code",
   "execution_count": 7,
   "metadata": {},
   "outputs": [],
   "source": [
    "# Some global variables\n",
    "BATCH_SIZE = 64\n",
    "EPOCHS = 10\n",
    "ROOT_PATH = '../data/facebook'\n",
    "IMAGE_SIZE = 224*224\n",
    "NUM_CLASSES = 2\n",
    "TEXTUAL_DIMENSION = 512\n",
    "VISUAL_DIMENSION = 512\n",
    "DEVICE = torch.device('cuda' if torch.cuda.is_available() else'cpu')"
   ]
  },
  {
   "cell_type": "code",
   "execution_count": 4,
   "metadata": {},
   "outputs": [],
   "source": [
    "# Initialize the dataset and maintain the dataloader\n",
    "class DynamicDataset(Dataset):\n",
    "    def __init__(self, json_path, transform = None):\n",
    "        self.df = pd.read_json(json_path)\n",
    "        self.transform = transform\n",
    "\n",
    "    def __len__(self):\n",
    "        return len(self.df)\n",
    "    \n",
    "    def __getitem__(self, index):\n",
    "        img_path = self.df.loc[index, 'img']\n",
    "        img_file = os.path.join(ROOT_PATH, img_path)\n",
    "        image = Image.open(img_file).convert(\"RGB\")\n",
    "        if self.transform is not None:\n",
    "            image = self.transform(image)\n",
    "        \n",
    "        text = self.df.loc[index, 'text']\n",
    "        if 'label' not in self.df.columns:\n",
    "            return image, text\n",
    "        label = self.df.loc[index, 'label']\n",
    "\n",
    "        return image ,text, label"
   ]
  },
  {
   "cell_type": "code",
   "execution_count": 5,
   "metadata": {},
   "outputs": [],
   "source": [
    "# Define a transform function for image preprocessing\n",
    "transform = transforms.Compose([\n",
    "    transforms.ToTensor(),\n",
    "    transforms.Normalize([0.485, 0.456, 0.406], [0.229, 0.224, 0.225])\n",
    "])\n",
    "\n",
    "# Create objects of each set of data\n",
    "train_data = DynamicDataset(os.path.join(ROOT_PATH, 'train.json'), transform = transform)\n",
    "dev_data = DynamicDataset(os.path.join(ROOT_PATH, 'dev.json'), transform = transform)\n",
    "\n",
    "# Create a dataloader\n",
    "train_loader = DataLoader(train_data, batch_size = BATCH_SIZE, shuffle = True)\n",
    "dev_loader = DataLoader(dev_data, batch_size = BATCH_SIZE, shuffle = True)"
   ]
  }
 ],
 "metadata": {
  "kernelspec": {
   "display_name": "hmc",
   "language": "python",
   "name": "venv"
  },
  "language_info": {
   "codemirror_mode": {
    "name": "ipython",
    "version": 3
   },
   "file_extension": ".py",
   "mimetype": "text/x-python",
   "name": "python",
   "nbconvert_exporter": "python",
   "pygments_lexer": "ipython3",
   "version": "3.8.10"
  },
  "orig_nbformat": 4
 },
 "nbformat": 4,
 "nbformat_minor": 2
}
